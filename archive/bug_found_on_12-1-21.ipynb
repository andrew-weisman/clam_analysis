{
 "cells": [
  {
   "cell_type": "code",
   "execution_count": 1,
   "metadata": {},
   "outputs": [],
   "source": [
    "import pandas as pd"
   ]
  },
  {
   "cell_type": "code",
   "execution_count": 16,
   "metadata": {},
   "outputs": [],
   "source": [
    "df_labels = pd.read_csv('data_labels.csv')"
   ]
  },
  {
   "cell_type": "code",
   "execution_count": 4,
   "metadata": {},
   "outputs": [
    {
     "data": {
      "text/html": [
       "<div>\n",
       "<style scoped>\n",
       "    .dataframe tbody tr th:only-of-type {\n",
       "        vertical-align: middle;\n",
       "    }\n",
       "\n",
       "    .dataframe tbody tr th {\n",
       "        vertical-align: top;\n",
       "    }\n",
       "\n",
       "    .dataframe thead th {\n",
       "        text-align: right;\n",
       "    }\n",
       "</style>\n",
       "<table border=\"1\" class=\"dataframe\">\n",
       "  <thead>\n",
       "    <tr style=\"text-align: right;\">\n",
       "      <th></th>\n",
       "      <th>case_id</th>\n",
       "      <th>slide_id</th>\n",
       "      <th>label</th>\n",
       "      <th>label_dummy</th>\n",
       "    </tr>\n",
       "  </thead>\n",
       "  <tbody>\n",
       "    <tr>\n",
       "      <th>0</th>\n",
       "      <td>0055483886</td>\n",
       "      <td>0055483886</td>\n",
       "      <td>pole</td>\n",
       "      <td>pole</td>\n",
       "    </tr>\n",
       "    <tr>\n",
       "      <th>1</th>\n",
       "      <td>0047953852</td>\n",
       "      <td>0047953852</td>\n",
       "      <td>p53</td>\n",
       "      <td>p53</td>\n",
       "    </tr>\n",
       "    <tr>\n",
       "      <th>2</th>\n",
       "      <td>DigitalSlide_E6M_15S_1</td>\n",
       "      <td>DigitalSlide_E6M_15S_1</td>\n",
       "      <td>msi</td>\n",
       "      <td>pole</td>\n",
       "    </tr>\n",
       "    <tr>\n",
       "      <th>3</th>\n",
       "      <td>30</td>\n",
       "      <td>30</td>\n",
       "      <td>pole</td>\n",
       "      <td>pole</td>\n",
       "    </tr>\n",
       "    <tr>\n",
       "      <th>4</th>\n",
       "      <td>DigitalSlide_E6M_17S_1</td>\n",
       "      <td>DigitalSlide_E6M_17S_1</td>\n",
       "      <td>pole</td>\n",
       "      <td>pole</td>\n",
       "    </tr>\n",
       "    <tr>\n",
       "      <th>5</th>\n",
       "      <td>0054130784</td>\n",
       "      <td>0054130784</td>\n",
       "      <td>p53</td>\n",
       "      <td>p53</td>\n",
       "    </tr>\n",
       "    <tr>\n",
       "      <th>6</th>\n",
       "      <td>0029468706</td>\n",
       "      <td>0029468706</td>\n",
       "      <td>lcn</td>\n",
       "      <td>lcn</td>\n",
       "    </tr>\n",
       "    <tr>\n",
       "      <th>7</th>\n",
       "      <td>DigitalSlide_E6M_20S_1</td>\n",
       "      <td>DigitalSlide_E6M_20S_1</td>\n",
       "      <td>lcn</td>\n",
       "      <td>lcn</td>\n",
       "    </tr>\n",
       "    <tr>\n",
       "      <th>8</th>\n",
       "      <td>0057134497</td>\n",
       "      <td>0057134497</td>\n",
       "      <td>lcn</td>\n",
       "      <td>lcn</td>\n",
       "    </tr>\n",
       "    <tr>\n",
       "      <th>9</th>\n",
       "      <td>0049547258</td>\n",
       "      <td>0049547258</td>\n",
       "      <td>lcn</td>\n",
       "      <td>lcn</td>\n",
       "    </tr>\n",
       "    <tr>\n",
       "      <th>10</th>\n",
       "      <td>0048086809</td>\n",
       "      <td>0048086809</td>\n",
       "      <td>lcn</td>\n",
       "      <td>lcn</td>\n",
       "    </tr>\n",
       "    <tr>\n",
       "      <th>11</th>\n",
       "      <td>0047176089</td>\n",
       "      <td>0047176089</td>\n",
       "      <td>p53</td>\n",
       "      <td>p53</td>\n",
       "    </tr>\n",
       "    <tr>\n",
       "      <th>12</th>\n",
       "      <td>0042034876</td>\n",
       "      <td>0042034876</td>\n",
       "      <td>p53</td>\n",
       "      <td>p53</td>\n",
       "    </tr>\n",
       "    <tr>\n",
       "      <th>13</th>\n",
       "      <td>0042711961</td>\n",
       "      <td>0042711961</td>\n",
       "      <td>p53</td>\n",
       "      <td>p53</td>\n",
       "    </tr>\n",
       "    <tr>\n",
       "      <th>14</th>\n",
       "      <td>0046877280</td>\n",
       "      <td>0046877280</td>\n",
       "      <td>p53</td>\n",
       "      <td>pole</td>\n",
       "    </tr>\n",
       "    <tr>\n",
       "      <th>15</th>\n",
       "      <td>0042951302</td>\n",
       "      <td>0042951302</td>\n",
       "      <td>p53</td>\n",
       "      <td>p53</td>\n",
       "    </tr>\n",
       "  </tbody>\n",
       "</table>\n",
       "</div>"
      ],
      "text/plain": [
       "                   case_id                slide_id label label_dummy\n",
       "0               0055483886              0055483886  pole        pole\n",
       "1               0047953852              0047953852   p53         p53\n",
       "2   DigitalSlide_E6M_15S_1  DigitalSlide_E6M_15S_1   msi        pole\n",
       "3                       30                      30  pole        pole\n",
       "4   DigitalSlide_E6M_17S_1  DigitalSlide_E6M_17S_1  pole        pole\n",
       "5               0054130784              0054130784   p53         p53\n",
       "6               0029468706              0029468706   lcn         lcn\n",
       "7   DigitalSlide_E6M_20S_1  DigitalSlide_E6M_20S_1   lcn         lcn\n",
       "8               0057134497              0057134497   lcn         lcn\n",
       "9               0049547258              0049547258   lcn         lcn\n",
       "10              0048086809              0048086809   lcn         lcn\n",
       "11              0047176089              0047176089   p53         p53\n",
       "12              0042034876              0042034876   p53         p53\n",
       "13              0042711961              0042711961   p53         p53\n",
       "14              0046877280              0046877280   p53        pole\n",
       "15              0042951302              0042951302   p53         p53"
      ]
     },
     "execution_count": 4,
     "metadata": {},
     "output_type": "execute_result"
    }
   ],
   "source": [
    "labels"
   ]
  },
  {
   "cell_type": "code",
   "execution_count": 8,
   "metadata": {},
   "outputs": [],
   "source": [
    "srs_slide = labels['slide_id']"
   ]
  },
  {
   "cell_type": "code",
   "execution_count": 9,
   "metadata": {},
   "outputs": [
    {
     "data": {
      "text/plain": [
       "0                 0055483886\n",
       "1                 0047953852\n",
       "2     DigitalSlide_E6M_15S_1\n",
       "3                         30\n",
       "4     DigitalSlide_E6M_17S_1\n",
       "5                 0054130784\n",
       "6                 0029468706\n",
       "7     DigitalSlide_E6M_20S_1\n",
       "8                 0057134497\n",
       "9                 0049547258\n",
       "10                0048086809\n",
       "11                0047176089\n",
       "12                0042034876\n",
       "13                0042711961\n",
       "14                0046877280\n",
       "15                0042951302\n",
       "Name: slide_id, dtype: object"
      ]
     },
     "execution_count": 9,
     "metadata": {},
     "output_type": "execute_result"
    }
   ],
   "source": [
    "srs_slide"
   ]
  },
  {
   "cell_type": "code",
   "execution_count": 14,
   "metadata": {},
   "outputs": [
    {
     "data": {
      "text/plain": [
       "0     False\n",
       "1     False\n",
       "2     False\n",
       "3     False\n",
       "4     False\n",
       "5      True\n",
       "6     False\n",
       "7     False\n",
       "8     False\n",
       "9      True\n",
       "10    False\n",
       "11    False\n",
       "12    False\n",
       "13    False\n",
       "14    False\n",
       "15    False\n",
       "Name: slide_id, dtype: bool"
      ]
     },
     "execution_count": 14,
     "metadata": {},
     "output_type": "execute_result"
    }
   ],
   "source": [
    "srs_slide.isin(srs_slide[[5,9]].tolist())"
   ]
  },
  {
   "cell_type": "code",
   "execution_count": 15,
   "metadata": {},
   "outputs": [
    {
     "data": {
      "text/plain": [
       "5    0054130784\n",
       "9    0049547258\n",
       "Name: slide_id, dtype: object"
      ]
     },
     "execution_count": 15,
     "metadata": {},
     "output_type": "execute_result"
    }
   ],
   "source": [
    "srs_slide[[5,9]]"
   ]
  },
  {
   "cell_type": "code",
   "execution_count": 17,
   "metadata": {},
   "outputs": [],
   "source": [
    "df_splits = pd.read_csv('splits/idibell_100/splits_0.csv')"
   ]
  },
  {
   "cell_type": "code",
   "execution_count": 18,
   "metadata": {},
   "outputs": [
    {
     "data": {
      "text/html": [
       "<div>\n",
       "<style scoped>\n",
       "    .dataframe tbody tr th:only-of-type {\n",
       "        vertical-align: middle;\n",
       "    }\n",
       "\n",
       "    .dataframe tbody tr th {\n",
       "        vertical-align: top;\n",
       "    }\n",
       "\n",
       "    .dataframe thead th {\n",
       "        text-align: right;\n",
       "    }\n",
       "</style>\n",
       "<table border=\"1\" class=\"dataframe\">\n",
       "  <thead>\n",
       "    <tr style=\"text-align: right;\">\n",
       "      <th></th>\n",
       "      <th>Unnamed: 0</th>\n",
       "      <th>train</th>\n",
       "      <th>val</th>\n",
       "      <th>test</th>\n",
       "    </tr>\n",
       "  </thead>\n",
       "  <tbody>\n",
       "    <tr>\n",
       "      <th>0</th>\n",
       "      <td>0</td>\n",
       "      <td>DigitalSlide_E6M_15S_1</td>\n",
       "      <td>30</td>\n",
       "      <td>0046877280</td>\n",
       "    </tr>\n",
       "    <tr>\n",
       "      <th>1</th>\n",
       "      <td>1</td>\n",
       "      <td>0048086809</td>\n",
       "      <td>55483886</td>\n",
       "      <td>DigitalSlide_E6M_17S_1</td>\n",
       "    </tr>\n",
       "    <tr>\n",
       "      <th>2</th>\n",
       "      <td>2</td>\n",
       "      <td>0042034876</td>\n",
       "      <td>49547258</td>\n",
       "      <td>DigitalSlide_E6M_20S_1</td>\n",
       "    </tr>\n",
       "    <tr>\n",
       "      <th>3</th>\n",
       "      <td>3</td>\n",
       "      <td>0042951302</td>\n",
       "      <td>57134497</td>\n",
       "      <td>0029468706</td>\n",
       "    </tr>\n",
       "    <tr>\n",
       "      <th>4</th>\n",
       "      <td>4</td>\n",
       "      <td>NaN</td>\n",
       "      <td>47176089</td>\n",
       "      <td>0047953852</td>\n",
       "    </tr>\n",
       "    <tr>\n",
       "      <th>5</th>\n",
       "      <td>5</td>\n",
       "      <td>NaN</td>\n",
       "      <td>54130784</td>\n",
       "      <td>0042711961</td>\n",
       "    </tr>\n",
       "  </tbody>\n",
       "</table>\n",
       "</div>"
      ],
      "text/plain": [
       "   Unnamed: 0                   train       val                    test\n",
       "0           0  DigitalSlide_E6M_15S_1        30              0046877280\n",
       "1           1              0048086809  55483886  DigitalSlide_E6M_17S_1\n",
       "2           2              0042034876  49547258  DigitalSlide_E6M_20S_1\n",
       "3           3              0042951302  57134497              0029468706\n",
       "4           4                     NaN  47176089              0047953852\n",
       "5           5                     NaN  54130784              0042711961"
      ]
     },
     "execution_count": 18,
     "metadata": {},
     "output_type": "execute_result"
    }
   ],
   "source": [
    "df_splits"
   ]
  },
  {
   "cell_type": "code",
   "execution_count": 22,
   "metadata": {},
   "outputs": [
    {
     "data": {
      "text/plain": [
       "0          30\n",
       "1    55483886\n",
       "2    49547258\n",
       "3    57134497\n",
       "4    47176089\n",
       "5    54130784\n",
       "Name: val, dtype: int64"
      ]
     },
     "execution_count": 22,
     "metadata": {},
     "output_type": "execute_result"
    }
   ],
   "source": [
    "df_splits['val']"
   ]
  },
  {
   "cell_type": "code",
   "execution_count": 40,
   "metadata": {},
   "outputs": [
    {
     "data": {
      "text/plain": [
       "0     False\n",
       "1     False\n",
       "2     False\n",
       "3     False\n",
       "4     False\n",
       "5     False\n",
       "6     False\n",
       "7     False\n",
       "8     False\n",
       "9     False\n",
       "10    False\n",
       "11    False\n",
       "12    False\n",
       "13    False\n",
       "14    False\n",
       "15    False\n",
       "Name: slide_id, dtype: bool"
      ]
     },
     "execution_count": 40,
     "metadata": {},
     "output_type": "execute_result"
    }
   ],
   "source": [
    "#srs_slide.isin(df_splits['train'].tolist())\n",
    "#srs_slide.isin(df_splits['test'].tolist())\n",
    "srs_slide.isin(df_splits['val'].tolist())"
   ]
  },
  {
   "cell_type": "code",
   "execution_count": 60,
   "metadata": {},
   "outputs": [
    {
     "data": {
      "text/plain": [
       "0     False\n",
       "1     False\n",
       "2     False\n",
       "3     False\n",
       "4     False\n",
       "5     False\n",
       "6     False\n",
       "7     False\n",
       "8     False\n",
       "9     False\n",
       "10    False\n",
       "11    False\n",
       "12    False\n",
       "13    False\n",
       "14    False\n",
       "15    False\n",
       "Name: slide_id, dtype: bool"
      ]
     },
     "execution_count": 60,
     "metadata": {},
     "output_type": "execute_result"
    }
   ],
   "source": [
    "#srs_slide.isin(df_splits['train'])\n",
    "#srs_slide.isin(df_splits['test'])\n",
    "srs_slide.isin(df_splits['val'])"
   ]
  },
  {
   "cell_type": "code",
   "execution_count": 47,
   "metadata": {},
   "outputs": [
    {
     "data": {
      "text/plain": [
       "0     False\n",
       "1     False\n",
       "2     False\n",
       "3     False\n",
       "4     False\n",
       "5     False\n",
       "6     False\n",
       "7     False\n",
       "8     False\n",
       "9     False\n",
       "10    False\n",
       "11    False\n",
       "12    False\n",
       "13    False\n",
       "14    False\n",
       "15    False\n",
       "Name: slide_id, dtype: bool"
      ]
     },
     "execution_count": 47,
     "metadata": {},
     "output_type": "execute_result"
    }
   ],
   "source": [
    "#srs_slide.isin(df_splits['train'].astype(srs_slide.dtype))\n",
    "#srs_slide.isin(df_splits['test'].astype(srs_slide.dtype))\n",
    "srs_slide.isin(df_splits['val'].astype(srs_slide.dtype))"
   ]
  },
  {
   "cell_type": "code",
   "execution_count": 41,
   "metadata": {},
   "outputs": [
    {
     "data": {
      "text/plain": [
       "0     False\n",
       "1     False\n",
       "2     False\n",
       "3     False\n",
       "4     False\n",
       "5     False\n",
       "6     False\n",
       "7     False\n",
       "8     False\n",
       "9     False\n",
       "10    False\n",
       "11    False\n",
       "12    False\n",
       "13    False\n",
       "14    False\n",
       "15    False\n",
       "Name: slide_id, dtype: bool"
      ]
     },
     "execution_count": 41,
     "metadata": {},
     "output_type": "execute_result"
    }
   ],
   "source": [
    "#srs_slide.isin(df_splits['train'].astype(srs_slide.dtype).tolist())\n",
    "#srs_slide.isin(df_splits['test'].astype(srs_slide.dtype).tolist())\n",
    "srs_slide.isin(df_splits['val'].astype(srs_slide.dtype).tolist())"
   ]
  },
  {
   "cell_type": "code",
   "execution_count": 58,
   "metadata": {},
   "outputs": [
    {
     "data": {
      "text/plain": [
       "0    True\n",
       "1    True\n",
       "2    True\n",
       "3    True\n",
       "4    True\n",
       "5    True\n",
       "Name: val, dtype: bool"
      ]
     },
     "execution_count": 58,
     "metadata": {},
     "output_type": "execute_result"
    }
   ],
   "source": [
    "x = df_splits['val']\n",
    "x.isin(x.astype(srs_slide.dtype))"
   ]
  },
  {
   "cell_type": "code",
   "execution_count": 27,
   "metadata": {},
   "outputs": [
    {
     "data": {
      "text/plain": [
       "dtype('O')"
      ]
     },
     "execution_count": 27,
     "metadata": {},
     "output_type": "execute_result"
    }
   ],
   "source": [
    "srs_slide.dtype"
   ]
  },
  {
   "cell_type": "code",
   "execution_count": 31,
   "metadata": {},
   "outputs": [
    {
     "data": {
      "text/plain": [
       "dtype('int64')"
      ]
     },
     "execution_count": 31,
     "metadata": {},
     "output_type": "execute_result"
    }
   ],
   "source": [
    "df_splits['val'].dtype"
   ]
  },
  {
   "cell_type": "code",
   "execution_count": 37,
   "metadata": {},
   "outputs": [],
   "source": [
    "x = df_splits['val'].astype(srs_slide.dtype)"
   ]
  },
  {
   "cell_type": "code",
   "execution_count": 39,
   "metadata": {},
   "outputs": [
    {
     "data": {
      "text/plain": [
       "[30, 55483886, 49547258, 57134497, 47176089, 54130784]"
      ]
     },
     "execution_count": 39,
     "metadata": {},
     "output_type": "execute_result"
    }
   ],
   "source": [
    "x.tolist()"
   ]
  },
  {
   "cell_type": "code",
   "execution_count": 68,
   "metadata": {},
   "outputs": [
    {
     "data": {
      "text/plain": [
       "str"
      ]
     },
     "execution_count": 68,
     "metadata": {},
     "output_type": "execute_result"
    }
   ],
   "source": [
    "type(df_splits['test'].tolist()[0])"
   ]
  },
  {
   "cell_type": "code",
   "execution_count": 78,
   "metadata": {},
   "outputs": [
    {
     "data": {
      "text/plain": [
       "[30, 55483886, 49547258, 57134497, 47176089, 54130784]"
      ]
     },
     "execution_count": 78,
     "metadata": {},
     "output_type": "execute_result"
    }
   ],
   "source": [
    "#df_splits['val'].astype(srs_slide.dtype)\n",
    "df_splits['val'].tolist()"
   ]
  },
  {
   "cell_type": "code",
   "execution_count": 80,
   "metadata": {},
   "outputs": [],
   "source": [
    "strings = ['30', '55483886', '49547258', '57134497', '47176089', '54130784']\n",
    "numbers = [30, 55483886, 49547258, 57134497, 47176089, 54130784]"
   ]
  },
  {
   "cell_type": "code",
   "execution_count": 82,
   "metadata": {},
   "outputs": [
    {
     "data": {
      "text/plain": [
       "0     False\n",
       "1     False\n",
       "2     False\n",
       "3      True\n",
       "4     False\n",
       "5     False\n",
       "6     False\n",
       "7     False\n",
       "8     False\n",
       "9     False\n",
       "10    False\n",
       "11    False\n",
       "12    False\n",
       "13    False\n",
       "14    False\n",
       "15    False\n",
       "Name: slide_id, dtype: bool"
      ]
     },
     "execution_count": 82,
     "metadata": {},
     "output_type": "execute_result"
    }
   ],
   "source": [
    "srs_slide.isin(strings)"
   ]
  },
  {
   "cell_type": "code",
   "execution_count": 83,
   "metadata": {},
   "outputs": [
    {
     "data": {
      "text/plain": [
       "0                 0055483886\n",
       "1                 0047953852\n",
       "2     DigitalSlide_E6M_15S_1\n",
       "3                         30\n",
       "4     DigitalSlide_E6M_17S_1\n",
       "5                 0054130784\n",
       "6                 0029468706\n",
       "7     DigitalSlide_E6M_20S_1\n",
       "8                 0057134497\n",
       "9                 0049547258\n",
       "10                0048086809\n",
       "11                0047176089\n",
       "12                0042034876\n",
       "13                0042711961\n",
       "14                0046877280\n",
       "15                0042951302\n",
       "Name: slide_id, dtype: object"
      ]
     },
     "execution_count": 83,
     "metadata": {},
     "output_type": "execute_result"
    }
   ],
   "source": [
    "srs_slide"
   ]
  },
  {
   "cell_type": "code",
   "execution_count": 85,
   "metadata": {},
   "outputs": [
    {
     "data": {
      "text/plain": [
       "0                0046877280\n",
       "1    DigitalSlide_E6M_17S_1\n",
       "2    DigitalSlide_E6M_20S_1\n",
       "3                0029468706\n",
       "4                0047953852\n",
       "5                0042711961\n",
       "Name: test, dtype: object"
      ]
     },
     "execution_count": 85,
     "metadata": {},
     "output_type": "execute_result"
    }
   ],
   "source": [
    "df_splits['test']"
   ]
  },
  {
   "cell_type": "code",
   "execution_count": 99,
   "metadata": {},
   "outputs": [
    {
     "data": {
      "text/plain": [
       "0     False\n",
       "1      True\n",
       "2     False\n",
       "3     False\n",
       "4      True\n",
       "5     False\n",
       "6      True\n",
       "7      True\n",
       "8     False\n",
       "9     False\n",
       "10    False\n",
       "11    False\n",
       "12    False\n",
       "13     True\n",
       "14     True\n",
       "15    False\n",
       "Name: slide_id, dtype: bool"
      ]
     },
     "execution_count": 99,
     "metadata": {},
     "output_type": "execute_result"
    }
   ],
   "source": [
    "srs_slide.apply(lambda x: x in set(df_splits['test']))"
   ]
  },
  {
   "cell_type": "code",
   "execution_count": 92,
   "metadata": {},
   "outputs": [
    {
     "data": {
      "text/plain": [
       "['30', '55483886', '49547258', '57134497', '47176089', '54130784']"
      ]
     },
     "execution_count": 92,
     "metadata": {},
     "output_type": "execute_result"
    }
   ],
   "source": [
    "strings"
   ]
  },
  {
   "cell_type": "code",
   "execution_count": 107,
   "metadata": {},
   "outputs": [
    {
     "data": {
      "text/plain": [
       "False"
      ]
     },
     "execution_count": 107,
     "metadata": {},
     "output_type": "execute_result"
    }
   ],
   "source": [
    "srs_slide.iloc[8] in strings2"
   ]
  },
  {
   "cell_type": "code",
   "execution_count": 103,
   "metadata": {},
   "outputs": [
    {
     "data": {
      "text/plain": [
       "0                 0055483886\n",
       "1                 0047953852\n",
       "2     DigitalSlide_E6M_15S_1\n",
       "3                         30\n",
       "4     DigitalSlide_E6M_17S_1\n",
       "5                 0054130784\n",
       "6                 0029468706\n",
       "7     DigitalSlide_E6M_20S_1\n",
       "8                 0057134497\n",
       "9                 0049547258\n",
       "10                0048086809\n",
       "11                0047176089\n",
       "12                0042034876\n",
       "13                0042711961\n",
       "14                0046877280\n",
       "15                0042951302\n",
       "Name: slide_id, dtype: object"
      ]
     },
     "execution_count": 103,
     "metadata": {},
     "output_type": "execute_result"
    }
   ],
   "source": [
    "srs_slide"
   ]
  },
  {
   "cell_type": "code",
   "execution_count": 105,
   "metadata": {},
   "outputs": [],
   "source": [
    "strings2 = ['55483886', '49547258', '30', '57134497', '47176089', '54130784']"
   ]
  },
  {
   "cell_type": "code",
   "execution_count": 109,
   "metadata": {},
   "outputs": [
    {
     "data": {
      "text/plain": [
       "'30'"
      ]
     },
     "execution_count": 109,
     "metadata": {},
     "output_type": "execute_result"
    }
   ],
   "source": [
    "srs_slide.iloc[3]"
   ]
  },
  {
   "cell_type": "code",
   "execution_count": 110,
   "metadata": {},
   "outputs": [
    {
     "data": {
      "text/plain": [
       "0          30\n",
       "1    55483886\n",
       "2    49547258\n",
       "3    57134497\n",
       "4    47176089\n",
       "5    54130784\n",
       "Name: val, dtype: int64"
      ]
     },
     "execution_count": 110,
     "metadata": {},
     "output_type": "execute_result"
    }
   ],
   "source": [
    "df_splits['val']"
   ]
  },
  {
   "cell_type": "code",
   "execution_count": 111,
   "metadata": {},
   "outputs": [
    {
     "data": {
      "text/html": [
       "<div>\n",
       "<style scoped>\n",
       "    .dataframe tbody tr th:only-of-type {\n",
       "        vertical-align: middle;\n",
       "    }\n",
       "\n",
       "    .dataframe tbody tr th {\n",
       "        vertical-align: top;\n",
       "    }\n",
       "\n",
       "    .dataframe thead th {\n",
       "        text-align: right;\n",
       "    }\n",
       "</style>\n",
       "<table border=\"1\" class=\"dataframe\">\n",
       "  <thead>\n",
       "    <tr style=\"text-align: right;\">\n",
       "      <th></th>\n",
       "      <th>Unnamed: 0</th>\n",
       "      <th>train</th>\n",
       "      <th>val</th>\n",
       "      <th>test</th>\n",
       "    </tr>\n",
       "  </thead>\n",
       "  <tbody>\n",
       "    <tr>\n",
       "      <th>0</th>\n",
       "      <td>0</td>\n",
       "      <td>DigitalSlide_E6M_15S_1</td>\n",
       "      <td>30</td>\n",
       "      <td>0046877280</td>\n",
       "    </tr>\n",
       "    <tr>\n",
       "      <th>1</th>\n",
       "      <td>1</td>\n",
       "      <td>0048086809</td>\n",
       "      <td>55483886</td>\n",
       "      <td>DigitalSlide_E6M_17S_1</td>\n",
       "    </tr>\n",
       "    <tr>\n",
       "      <th>2</th>\n",
       "      <td>2</td>\n",
       "      <td>0042034876</td>\n",
       "      <td>49547258</td>\n",
       "      <td>DigitalSlide_E6M_20S_1</td>\n",
       "    </tr>\n",
       "    <tr>\n",
       "      <th>3</th>\n",
       "      <td>3</td>\n",
       "      <td>0042951302</td>\n",
       "      <td>57134497</td>\n",
       "      <td>0029468706</td>\n",
       "    </tr>\n",
       "    <tr>\n",
       "      <th>4</th>\n",
       "      <td>4</td>\n",
       "      <td>NaN</td>\n",
       "      <td>47176089</td>\n",
       "      <td>0047953852</td>\n",
       "    </tr>\n",
       "    <tr>\n",
       "      <th>5</th>\n",
       "      <td>5</td>\n",
       "      <td>NaN</td>\n",
       "      <td>54130784</td>\n",
       "      <td>0042711961</td>\n",
       "    </tr>\n",
       "  </tbody>\n",
       "</table>\n",
       "</div>"
      ],
      "text/plain": [
       "   Unnamed: 0                   train       val                    test\n",
       "0           0  DigitalSlide_E6M_15S_1        30              0046877280\n",
       "1           1              0048086809  55483886  DigitalSlide_E6M_17S_1\n",
       "2           2              0042034876  49547258  DigitalSlide_E6M_20S_1\n",
       "3           3              0042951302  57134497              0029468706\n",
       "4           4                     NaN  47176089              0047953852\n",
       "5           5                     NaN  54130784              0042711961"
      ]
     },
     "execution_count": 111,
     "metadata": {},
     "output_type": "execute_result"
    }
   ],
   "source": [
    "df_splits"
   ]
  },
  {
   "cell_type": "code",
   "execution_count": 125,
   "metadata": {},
   "outputs": [
    {
     "data": {
      "text/plain": [
       "['30', '0055483886', '0049547258', '0057134497', '0047176089', '0054130784']"
      ]
     },
     "execution_count": 125,
     "metadata": {},
     "output_type": "execute_result"
    }
   ],
   "source": [
    "pd.read_csv('splits/idibell_100/splits_0.csv', dtype=srs_slide.dtype)['val'].dropna().tolist()"
   ]
  },
  {
   "cell_type": "code",
   "execution_count": null,
   "metadata": {},
   "outputs": [],
   "source": []
  }
 ],
 "metadata": {
  "interpreter": {
   "hash": "2b2a0d3fd60f32d301e2bacc55fb152f20fd79bd1393ee9779a7b081da0b8571"
  },
  "kernelspec": {
   "display_name": "Python 3.7.7 64-bit ('clam': conda)",
   "language": "python",
   "name": "python3"
  },
  "language_info": {
   "codemirror_mode": {
    "name": "ipython",
    "version": 3
   },
   "file_extension": ".py",
   "mimetype": "text/x-python",
   "name": "python",
   "nbconvert_exporter": "python",
   "pygments_lexer": "ipython3",
   "version": "3.7.7"
  },
  "orig_nbformat": 4
 },
 "nbformat": 4,
 "nbformat_minor": 2
}
