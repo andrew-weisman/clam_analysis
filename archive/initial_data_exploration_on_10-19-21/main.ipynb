{
 "cells": [
  {
   "cell_type": "markdown",
   "metadata": {},
   "source": [
    "Starting on the Ubuntu VM on Andrew's laptop, create a file of file extensions in the endometrial data using\n",
    "\n",
    "```bash\n",
    "find ~/host_home/Box/Research_collaboration-IDIBELL-NCI-FNL -type f | rev | cut -d \".\" -f 1 | rev > ~/host_home/notebook/2021-10-19/studying_endometrial_files/file_extensions.txt\n",
    "```"
   ]
  },
  {
   "cell_type": "code",
   "execution_count": 6,
   "metadata": {},
   "outputs": [
    {
     "data": {
      "text/plain": [
       "file_type\n",
       "dat          1403\n",
       "tif            61\n",
       "ini            39\n",
       "mrxs           39\n",
       "qpdata         38\n",
       "txt             1\n",
       "dtype: int64"
      ]
     },
     "execution_count": 6,
     "metadata": {},
     "output_type": "execute_result"
    }
   ],
   "source": [
    "# This tells us that .dat files are the most prevalent in the endometrial data\n",
    "import pandas as pd\n",
    "df_extensions = pd.read_csv(filepath_or_buffer='./file_extensions.txt', names=['file_type'])\n",
    "df_extensions.value_counts()"
   ]
  },
  {
   "cell_type": "markdown",
   "metadata": {},
   "source": [
    "Run\n",
    "\n",
    "```bash\n",
    "find ~/host_home/Box/Research_collaboration-IDIBELL-NCI-FNL -type f -name \"*.dat\" | rev | cut -d \"/\" -f 2- | rev | sort -u > ~/host_home/notebook/2021-10-19/studying_endometrial_files/dirs_with_dat_files.txt\n",
    "```\n",
    "\n",
    "to get the list of directories containing .dat files.\n",
    "\n",
    "Run\n",
    "\n",
    "```bash\n",
    "paste <(ls -tlr $(find ~/host_home/Box/Research_collaboration-IDIBELL-NCI-FNL -type f -name \"*.dat\") | awk '{printf(\"%s\\t%s\\t%s\\t%s\\n\", $5, $6, $7, $8)}') <(ls -tlr $(find ~/host_home/Box/Research_collaboration-IDIBELL-NCI-FNL -type f -name \"*.dat\") | awk -v FS=\"/home/aweisman\" '{printf(\"/home/aweisman%s\\n\", $2)}') > ~/host_home/notebook/2021-10-19/studying_endometrial_files/all_dat_files.txt\n",
    "```\n",
    "\n",
    "to get a list of all .dat file details."
   ]
  },
  {
   "cell_type": "code",
   "execution_count": 8,
   "metadata": {},
   "outputs": [
    {
     "data": {
      "text/html": [
       "<div>\n",
       "<style scoped>\n",
       "    .dataframe tbody tr th:only-of-type {\n",
       "        vertical-align: middle;\n",
       "    }\n",
       "\n",
       "    .dataframe tbody tr th {\n",
       "        vertical-align: top;\n",
       "    }\n",
       "\n",
       "    .dataframe thead th {\n",
       "        text-align: right;\n",
       "    }\n",
       "</style>\n",
       "<table border=\"1\" class=\"dataframe\">\n",
       "  <thead>\n",
       "    <tr style=\"text-align: right;\">\n",
       "      <th></th>\n",
       "      <th>bytes</th>\n",
       "      <th>month</th>\n",
       "      <th>day</th>\n",
       "      <th>time</th>\n",
       "      <th>path</th>\n",
       "      <th>mb</th>\n",
       "      <th>gb</th>\n",
       "      <th>file</th>\n",
       "    </tr>\n",
       "  </thead>\n",
       "  <tbody>\n",
       "    <tr>\n",
       "      <th>522</th>\n",
       "      <td>1615077974</td>\n",
       "      <td>Jun</td>\n",
       "      <td>28</td>\n",
       "      <td>12:54</td>\n",
       "      <td>/home/aweisman/host_home/Box/Research_collabor...</td>\n",
       "      <td>1540.258383</td>\n",
       "      <td>1.504159e+00</td>\n",
       "      <td>Data0001.dat</td>\n",
       "    </tr>\n",
       "    <tr>\n",
       "      <th>114</th>\n",
       "      <td>1614244013</td>\n",
       "      <td>May</td>\n",
       "      <td>7</td>\n",
       "      <td>06:55</td>\n",
       "      <td>/home/aweisman/host_home/Box/Research_collabor...</td>\n",
       "      <td>1539.463056</td>\n",
       "      <td>1.503382e+00</td>\n",
       "      <td>Data0001.dat</td>\n",
       "    </tr>\n",
       "    <tr>\n",
       "      <th>968</th>\n",
       "      <td>1614192767</td>\n",
       "      <td>Aug</td>\n",
       "      <td>25</td>\n",
       "      <td>11:33</td>\n",
       "      <td>/home/aweisman/host_home/Box/Research_collabor...</td>\n",
       "      <td>1539.414184</td>\n",
       "      <td>1.503334e+00</td>\n",
       "      <td>Data0000.dat</td>\n",
       "    </tr>\n",
       "    <tr>\n",
       "      <th>264</th>\n",
       "      <td>1614035710</td>\n",
       "      <td>May</td>\n",
       "      <td>7</td>\n",
       "      <td>07:18</td>\n",
       "      <td>/home/aweisman/host_home/Box/Research_collabor...</td>\n",
       "      <td>1539.264402</td>\n",
       "      <td>1.503188e+00</td>\n",
       "      <td>Data0001.dat</td>\n",
       "    </tr>\n",
       "    <tr>\n",
       "      <th>597</th>\n",
       "      <td>1613679299</td>\n",
       "      <td>Jun</td>\n",
       "      <td>28</td>\n",
       "      <td>13:25</td>\n",
       "      <td>/home/aweisman/host_home/Box/Research_collabor...</td>\n",
       "      <td>1538.924502</td>\n",
       "      <td>1.502856e+00</td>\n",
       "      <td>Data0001.dat</td>\n",
       "    </tr>\n",
       "    <tr>\n",
       "      <th>...</th>\n",
       "      <td>...</td>\n",
       "      <td>...</td>\n",
       "      <td>...</td>\n",
       "      <td>...</td>\n",
       "      <td>...</td>\n",
       "      <td>...</td>\n",
       "      <td>...</td>\n",
       "      <td>...</td>\n",
       "    </tr>\n",
       "    <tr>\n",
       "      <th>1250</th>\n",
       "      <td>838</td>\n",
       "      <td>Aug</td>\n",
       "      <td>26</td>\n",
       "      <td>12:43</td>\n",
       "      <td>/home/aweisman/host_home/Box/Research_collabor...</td>\n",
       "      <td>0.000799</td>\n",
       "      <td>7.804483e-07</td>\n",
       "      <td>Data0020.dat</td>\n",
       "    </tr>\n",
       "    <tr>\n",
       "      <th>1355</th>\n",
       "      <td>791</td>\n",
       "      <td>Sep</td>\n",
       "      <td>22</td>\n",
       "      <td>07:17</td>\n",
       "      <td>/home/aweisman/host_home/Box/Research_collabor...</td>\n",
       "      <td>0.000754</td>\n",
       "      <td>7.366762e-07</td>\n",
       "      <td>Data0020.dat</td>\n",
       "    </tr>\n",
       "    <tr>\n",
       "      <th>1062</th>\n",
       "      <td>720</td>\n",
       "      <td>Aug</td>\n",
       "      <td>26</td>\n",
       "      <td>12:38</td>\n",
       "      <td>/home/aweisman/host_home/Box/Research_collabor...</td>\n",
       "      <td>0.000687</td>\n",
       "      <td>6.705523e-07</td>\n",
       "      <td>Data0020.dat</td>\n",
       "    </tr>\n",
       "    <tr>\n",
       "      <th>1285</th>\n",
       "      <td>716</td>\n",
       "      <td>Aug</td>\n",
       "      <td>26</td>\n",
       "      <td>12:45</td>\n",
       "      <td>/home/aweisman/host_home/Box/Research_collabor...</td>\n",
       "      <td>0.000683</td>\n",
       "      <td>6.668270e-07</td>\n",
       "      <td>Data0020.dat</td>\n",
       "    </tr>\n",
       "    <tr>\n",
       "      <th>1215</th>\n",
       "      <td>681</td>\n",
       "      <td>Aug</td>\n",
       "      <td>26</td>\n",
       "      <td>12:43</td>\n",
       "      <td>/home/aweisman/host_home/Box/Research_collabor...</td>\n",
       "      <td>0.000649</td>\n",
       "      <td>6.342307e-07</td>\n",
       "      <td>Data0021.dat</td>\n",
       "    </tr>\n",
       "  </tbody>\n",
       "</table>\n",
       "<p>1403 rows × 8 columns</p>\n",
       "</div>"
      ],
      "text/plain": [
       "           bytes month  day   time  \\\n",
       "522   1615077974   Jun   28  12:54   \n",
       "114   1614244013   May    7  06:55   \n",
       "968   1614192767   Aug   25  11:33   \n",
       "264   1614035710   May    7  07:18   \n",
       "597   1613679299   Jun   28  13:25   \n",
       "...          ...   ...  ...    ...   \n",
       "1250         838   Aug   26  12:43   \n",
       "1355         791   Sep   22  07:17   \n",
       "1062         720   Aug   26  12:38   \n",
       "1285         716   Aug   26  12:45   \n",
       "1215         681   Aug   26  12:43   \n",
       "\n",
       "                                                   path           mb  \\\n",
       "522   /home/aweisman/host_home/Box/Research_collabor...  1540.258383   \n",
       "114   /home/aweisman/host_home/Box/Research_collabor...  1539.463056   \n",
       "968   /home/aweisman/host_home/Box/Research_collabor...  1539.414184   \n",
       "264   /home/aweisman/host_home/Box/Research_collabor...  1539.264402   \n",
       "597   /home/aweisman/host_home/Box/Research_collabor...  1538.924502   \n",
       "...                                                 ...          ...   \n",
       "1250  /home/aweisman/host_home/Box/Research_collabor...     0.000799   \n",
       "1355  /home/aweisman/host_home/Box/Research_collabor...     0.000754   \n",
       "1062  /home/aweisman/host_home/Box/Research_collabor...     0.000687   \n",
       "1285  /home/aweisman/host_home/Box/Research_collabor...     0.000683   \n",
       "1215  /home/aweisman/host_home/Box/Research_collabor...     0.000649   \n",
       "\n",
       "                gb          file  \n",
       "522   1.504159e+00  Data0001.dat  \n",
       "114   1.503382e+00  Data0001.dat  \n",
       "968   1.503334e+00  Data0000.dat  \n",
       "264   1.503188e+00  Data0001.dat  \n",
       "597   1.502856e+00  Data0001.dat  \n",
       "...            ...           ...  \n",
       "1250  7.804483e-07  Data0020.dat  \n",
       "1355  7.366762e-07  Data0020.dat  \n",
       "1062  6.705523e-07  Data0020.dat  \n",
       "1285  6.668270e-07  Data0020.dat  \n",
       "1215  6.342307e-07  Data0021.dat  \n",
       "\n",
       "[1403 rows x 8 columns]"
      ]
     },
     "execution_count": 8,
     "metadata": {},
     "output_type": "execute_result"
    }
   ],
   "source": [
    "# Get a dataframe of the files in the dataset and display by decreasing size\n",
    "df = pd.read_csv(filepath_or_buffer='./all_dat_files.txt', sep='\\t', names=['bytes', 'month', 'day', 'time', 'path'])\n",
    "df['mb'] = df.bytes*1024**-2\n",
    "df['gb'] = df.bytes*1024**-3\n",
    "df['file'] = df['path'].apply(lambda x: x.split('/')[-1])\n",
    "df.sort_values(['bytes'], ascending=False)"
   ]
  },
  {
   "cell_type": "code",
   "execution_count": 9,
   "metadata": {},
   "outputs": [
    {
     "data": {
      "image/png": "[encoded data removed]",
      "text/plain": [
       "<Figure size 432x288 with 1 Axes>"
      ]
     },
     "metadata": {
      "needs_background": "light"
     },
     "output_type": "display_data"
    }
   ],
   "source": [
    "# Plot a histogram of the file sizes\n",
    "ax = df['mb'].hist()\n",
    "ax.set_xlabel('Size in MB')\n",
    "ax.set_ylabel('Count')\n",
    "ax.set_title('Histogram of file sizes in MB');"
   ]
  },
  {
   "cell_type": "code",
   "execution_count": 18,
   "metadata": {},
   "outputs": [
    {
     "data": {
      "text/plain": [
       "143.22417166642845"
      ]
     },
     "execution_count": 18,
     "metadata": {},
     "output_type": "execute_result"
    }
   ],
   "source": [
    "# Get the total size of the dataset in GB\n",
    "df['gb'].sum()"
   ]
  }
 ],
 "metadata": {
  "interpreter": {
   "hash": "460a0463e3b0aebab891ca586ede5cac7c4663e7631f091f945cd0c4067d87eb"
  },
  "kernelspec": {
   "display_name": "Python 3.8.5 64-bit ('base': conda)",
   "name": "python3"
  },
  "language_info": {
   "codemirror_mode": {
    "name": "ipython",
    "version": 3
   },
   "file_extension": ".py",
   "mimetype": "text/x-python",
   "name": "python",
   "nbconvert_exporter": "python",
   "pygments_lexer": "ipython3",
   "version": "3.8.5"
  },
  "orig_nbformat": 4
 },
 "nbformat": 4,
 "nbformat_minor": 2
}
