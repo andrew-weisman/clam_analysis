{
 "cells": [
  {
   "cell_type": "code",
   "execution_count": 1,
   "metadata": {},
   "outputs": [
    {
     "name": "stdout",
     "output_type": "stream",
     "text": [
      "For the train split, does the number of True values in the mask equal the number of slides in the split? True\n",
      "For the val split, does the number of True values in the mask equal the number of slides in the split? False\n",
      "For the test split, does the number of True values in the mask equal the number of slides in the split? True\n",
      "For the train split, does the number of True values in the mask equal the number of slides in the split? True\n",
      "For the val split, does the number of True values in the mask equal the number of slides in the split? True\n",
      "For the test split, does the number of True values in the mask equal the number of slides in the split? True\n"
     ]
    }
   ],
   "source": [
    "# Explanation (see return_splits() method in dataset_generic.py): Without \"dtype=slide_data['slide_id'].dtype\" below, read_csv() will convert all-number columns to a numerical type. Even if we convert numerical columns back to objects later, we may lose zero-padding in the process; the columns must be correctly read in from the get-go. When we compare the individual train/val/test columns to slide_data['slide_id'] in the check_equality_in_number_of_slides() function below, we cannot compare objects (strings) to numbers or even to incorrectly zero-padded objects/strings.\n",
    "\n",
    "import pandas as pd\n",
    "\n",
    "def check_equality_in_number_of_slides(all_splits, slide_data):\n",
    "    for split_key in ['train', 'val', 'test']:\n",
    "        split = all_splits[split_key]\n",
    "        split = split.dropna().reset_index(drop=True)\n",
    "        mask = slide_data['slide_id'].isin(split.tolist())\n",
    "        print('For the {} split, does the number of True values in the mask equal the number of slides in the split? {}'.format(split_key, mask.sum(axis=0) == len(split)))\n",
    "\n",
    "slide_data = pd.read_csv('data_labels.csv')\n",
    "\n",
    "# Fails for the \"val\" split\n",
    "all_splits = pd.read_csv('splits_0.csv')\n",
    "check_equality_in_number_of_slides(all_splits, slide_data)\n",
    "\n",
    "# Works for all three splits\n",
    "all_splits = pd.read_csv('splits_0.csv', dtype=slide_data['slide_id'].dtype)\n",
    "check_equality_in_number_of_slides(all_splits, slide_data)"
   ]
  },
  {
   "cell_type": "code",
   "execution_count": null,
   "metadata": {},
   "outputs": [],
   "source": []
  }
 ],
 "metadata": {
  "interpreter": {
   "hash": "2b2a0d3fd60f32d301e2bacc55fb152f20fd79bd1393ee9779a7b081da0b8571"
  },
  "kernelspec": {
   "display_name": "Python 3.7.7 64-bit ('clam': conda)",
   "language": "python",
   "name": "python3"
  },
  "language_info": {
   "codemirror_mode": {
    "name": "ipython",
    "version": 3
   },
   "file_extension": ".py",
   "mimetype": "text/x-python",
   "name": "python",
   "nbconvert_exporter": "python",
   "pygments_lexer": "ipython3",
   "version": "3.7.7"
  },
  "orig_nbformat": 4
 },
 "nbformat": 4,
 "nbformat_minor": 2
}
